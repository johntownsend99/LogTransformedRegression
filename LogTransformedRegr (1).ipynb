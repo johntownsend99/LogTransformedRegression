{
 "cells": [
  {
   "cell_type": "code",
   "execution_count": 1,
   "id": "6da66125",
   "metadata": {},
   "outputs": [],
   "source": [
    "import pandas as pd\n",
    "import numpy as np\n",
    "from matplotlib import pyplot as plt\n",
    "from sklearn import preprocessing\n",
    "from sklearn.model_selection import train_test_split\n",
    "from sklearn.linear_model import LinearRegression\n",
    "from sklearn.metrics import mean_squared_error\n",
    "import seaborn as sns"
   ]
  },
  {
   "cell_type": "markdown",
   "id": "c096c590",
   "metadata": {},
   "source": [
    "## Creating a standard simple linear regression model"
   ]
  },
  {
   "cell_type": "code",
   "execution_count": 4,
   "id": "281dbbc8",
   "metadata": {},
   "outputs": [],
   "source": [
    "# read in data\n",
    "data = pd.read_csv('mammals.csv')"
   ]
  },
  {
   "cell_type": "code",
   "execution_count": 5,
   "id": "1323b39f",
   "metadata": {},
   "outputs": [],
   "source": [
    "# select feature and target\n",
    "mammals = data[['body_wt','brain_wt']]"
   ]
  },
  {
   "cell_type": "code",
   "execution_count": 6,
   "id": "b6614eca",
   "metadata": {},
   "outputs": [],
   "source": [
    "X = np.array(data['body_wt']).reshape(-1,1)\n",
    "y = np.array(data['brain_wt']).reshape(-1,1)"
   ]
  },
  {
   "cell_type": "code",
   "execution_count": 7,
   "id": "03336ead",
   "metadata": {},
   "outputs": [],
   "source": [
    "# initialize LinReg object\n",
    "regr = LinearRegression()\n",
    "\n",
    "# fit model \n",
    "regr.fit(X, y)\n",
    "\n",
    "# predict\n",
    "y_pred = regr.predict(X)\n",
    "\n",
    "# create residuals\n",
    "residuals = y - y_pred"
   ]
  },
  {
   "cell_type": "markdown",
   "id": "0610c9c4",
   "metadata": {},
   "source": [
    "### Comparing predictions to actual outputs before transforming variables"
   ]
  },
  {
   "cell_type": "code",
   "execution_count": 8,
   "id": "56aa8521",
   "metadata": {},
   "outputs": [
    {
     "data": {
      "text/html": [
       "<div>\n",
       "<style scoped>\n",
       "    .dataframe tbody tr th:only-of-type {\n",
       "        vertical-align: middle;\n",
       "    }\n",
       "\n",
       "    .dataframe tbody tr th {\n",
       "        vertical-align: top;\n",
       "    }\n",
       "\n",
       "    .dataframe thead th {\n",
       "        text-align: right;\n",
       "    }\n",
       "</style>\n",
       "<table border=\"1\" class=\"dataframe\">\n",
       "  <thead>\n",
       "    <tr style=\"text-align: right;\">\n",
       "      <th></th>\n",
       "      <th>True</th>\n",
       "      <th>Prediction</th>\n",
       "    </tr>\n",
       "  </thead>\n",
       "  <tbody>\n",
       "    <tr>\n",
       "      <th>0</th>\n",
       "      <td>5712.0</td>\n",
       "      <td>6522.071227</td>\n",
       "    </tr>\n",
       "    <tr>\n",
       "      <th>1</th>\n",
       "      <td>6.6</td>\n",
       "      <td>91.970893</td>\n",
       "    </tr>\n",
       "    <tr>\n",
       "      <th>2</th>\n",
       "      <td>44.5</td>\n",
       "      <td>94.275986</td>\n",
       "    </tr>\n",
       "    <tr>\n",
       "      <th>3</th>\n",
       "      <td>5.7</td>\n",
       "      <td>91.893573</td>\n",
       "    </tr>\n",
       "    <tr>\n",
       "      <th>4</th>\n",
       "      <td>4603.0</td>\n",
       "      <td>2552.670645</td>\n",
       "    </tr>\n",
       "    <tr>\n",
       "      <th>...</th>\n",
       "      <td>...</td>\n",
       "      <td>...</td>\n",
       "    </tr>\n",
       "    <tr>\n",
       "      <th>57</th>\n",
       "      <td>12.3</td>\n",
       "      <td>92.937389</td>\n",
       "    </tr>\n",
       "    <tr>\n",
       "      <th>58</th>\n",
       "      <td>2.5</td>\n",
       "      <td>91.104912</td>\n",
       "    </tr>\n",
       "    <tr>\n",
       "      <th>59</th>\n",
       "      <td>58.0</td>\n",
       "      <td>95.054016</td>\n",
       "    </tr>\n",
       "    <tr>\n",
       "      <th>60</th>\n",
       "      <td>3.9</td>\n",
       "      <td>94.387133</td>\n",
       "    </tr>\n",
       "    <tr>\n",
       "      <th>61</th>\n",
       "      <td>17.0</td>\n",
       "      <td>94.918706</td>\n",
       "    </tr>\n",
       "  </tbody>\n",
       "</table>\n",
       "<p>62 rows × 2 columns</p>\n",
       "</div>"
      ],
      "text/plain": [
       "      True   Prediction\n",
       "0   5712.0  6522.071227\n",
       "1      6.6    91.970893\n",
       "2     44.5    94.275986\n",
       "3      5.7    91.893573\n",
       "4   4603.0  2552.670645\n",
       "..     ...          ...\n",
       "57    12.3    92.937389\n",
       "58     2.5    91.104912\n",
       "59    58.0    95.054016\n",
       "60     3.9    94.387133\n",
       "61    17.0    94.918706\n",
       "\n",
       "[62 rows x 2 columns]"
      ]
     },
     "execution_count": 8,
     "metadata": {},
     "output_type": "execute_result"
    }
   ],
   "source": [
    "y_pred_series = pd.Series(y_pred[:,0])\n",
    "y_test_series = pd.Series(y[:,0])\n",
    "z = pd.concat([y_test_series, y_pred_series], axis=1)\n",
    "z.columns = ['True', 'Prediction']\n",
    "z"
   ]
  },
  {
   "cell_type": "code",
   "execution_count": 10,
   "id": "d43c3615",
   "metadata": {},
   "outputs": [
    {
     "data": {
      "image/png": "[encoded data removed]",
      "text/plain": [
       "<Figure size 432x288 with 1 Axes>"
      ]
     },
     "metadata": {
      "needs_background": "light"
     },
     "output_type": "display_data"
    }
   ],
   "source": [
    "# create residual plot\n",
    "res_plot = sns.residplot(x=y,y=residuals)\n",
    "res_plot.set_title('Residual Plot')\n",
    "res_plot.set_xlabel('Brain Weight')\n",
    "res_plot.set_ylabel('Residuals')\n",
    "sns.set(rc={\"figure.figsize\":(12, 12)})"
   ]
  },
  {
   "cell_type": "code",
   "execution_count": 11,
   "id": "944690af",
   "metadata": {},
   "outputs": [
    {
     "data": {
      "text/plain": [
       "Text(0.5, 0, 'Binned Residuals')"
      ]
     },
     "execution_count": 11,
     "metadata": {},
     "output_type": "execute_result"
    },
    {
     "data": {
      "image/png": "[encoded data removed]",
      "text/plain": [
       "<Figure size 1080x576 with 1 Axes>"
      ]
     },
     "metadata": {},
     "output_type": "display_data"
    }
   ],
   "source": [
    "# create historgram of residuals\n",
    "plt.figure(figsize=(15,8))\n",
    "plt.hist(residuals, bins=50, range=(-100,100))\n",
    "plt.title('Histogram of Residuals', fontsize=16, weight='bold')\n",
    "plt.ylabel('Count')\n",
    "plt.xlabel('Binned Residuals')"
   ]
  },
  {
   "cell_type": "markdown",
   "id": "2c18f5bb",
   "metadata": {},
   "source": [
    "# Creating a transformed linear regression model"
   ]
  },
  {
   "cell_type": "code",
   "execution_count": 12,
   "id": "6462a720",
   "metadata": {},
   "outputs": [],
   "source": [
    "#log transform inputs and target\n",
    "log_X,log_y = np.log(X), np.log(y)"
   ]
  },
  {
   "cell_type": "code",
   "execution_count": 13,
   "id": "e6966e1d",
   "metadata": {},
   "outputs": [],
   "source": [
    "regr.fit(log_X,log_y)\n",
    "log_y_pred = regr.predict(log_X) "
   ]
  },
  {
   "cell_type": "code",
   "execution_count": 14,
   "id": "78e8a3e0",
   "metadata": {},
   "outputs": [],
   "source": [
    "log_residuals = log_y - log_y_pred"
   ]
  },
  {
   "cell_type": "markdown",
   "id": "5ca933e9",
   "metadata": {},
   "source": [
    "## Comparing predictions to actual outputs after transformation"
   ]
  },
  {
   "cell_type": "code",
   "execution_count": 15,
   "id": "aa394246",
   "metadata": {},
   "outputs": [
    {
     "data": {
      "text/html": [
       "<div>\n",
       "<style scoped>\n",
       "    .dataframe tbody tr th:only-of-type {\n",
       "        vertical-align: middle;\n",
       "    }\n",
       "\n",
       "    .dataframe tbody tr th {\n",
       "        vertical-align: top;\n",
       "    }\n",
       "\n",
       "    .dataframe thead th {\n",
       "        text-align: right;\n",
       "    }\n",
       "</style>\n",
       "<table border=\"1\" class=\"dataframe\">\n",
       "  <thead>\n",
       "    <tr style=\"text-align: right;\">\n",
       "      <th></th>\n",
       "      <th>True</th>\n",
       "      <th>Prediction</th>\n",
       "    </tr>\n",
       "  </thead>\n",
       "  <tbody>\n",
       "    <tr>\n",
       "      <th>0</th>\n",
       "      <td>8.650325</td>\n",
       "      <td>8.751860</td>\n",
       "    </tr>\n",
       "    <tr>\n",
       "      <th>1</th>\n",
       "      <td>1.887070</td>\n",
       "      <td>2.134789</td>\n",
       "    </tr>\n",
       "    <tr>\n",
       "      <th>2</th>\n",
       "      <td>3.795489</td>\n",
       "      <td>3.051360</td>\n",
       "    </tr>\n",
       "    <tr>\n",
       "      <th>3</th>\n",
       "      <td>1.740466</td>\n",
       "      <td>2.072112</td>\n",
       "    </tr>\n",
       "    <tr>\n",
       "      <th>4</th>\n",
       "      <td>8.434464</td>\n",
       "      <td>8.030015</td>\n",
       "    </tr>\n",
       "    <tr>\n",
       "      <th>...</th>\n",
       "      <td>...</td>\n",
       "      <td>...</td>\n",
       "    </tr>\n",
       "    <tr>\n",
       "      <th>57</th>\n",
       "      <td>2.509599</td>\n",
       "      <td>2.655818</td>\n",
       "    </tr>\n",
       "    <tr>\n",
       "      <th>58</th>\n",
       "      <td>0.916291</td>\n",
       "      <td>0.433450</td>\n",
       "    </tr>\n",
       "    <tr>\n",
       "      <th>59</th>\n",
       "      <td>4.060443</td>\n",
       "      <td>3.211730</td>\n",
       "    </tr>\n",
       "    <tr>\n",
       "      <th>60</th>\n",
       "      <td>1.360977</td>\n",
       "      <td>3.076473</td>\n",
       "    </tr>\n",
       "    <tr>\n",
       "      <th>61</th>\n",
       "      <td>2.833213</td>\n",
       "      <td>3.186184</td>\n",
       "    </tr>\n",
       "  </tbody>\n",
       "</table>\n",
       "<p>62 rows × 2 columns</p>\n",
       "</div>"
      ],
      "text/plain": [
       "        True  Prediction\n",
       "0   8.650325    8.751860\n",
       "1   1.887070    2.134789\n",
       "2   3.795489    3.051360\n",
       "3   1.740466    2.072112\n",
       "4   8.434464    8.030015\n",
       "..       ...         ...\n",
       "57  2.509599    2.655818\n",
       "58  0.916291    0.433450\n",
       "59  4.060443    3.211730\n",
       "60  1.360977    3.076473\n",
       "61  2.833213    3.186184\n",
       "\n",
       "[62 rows x 2 columns]"
      ]
     },
     "execution_count": 15,
     "metadata": {},
     "output_type": "execute_result"
    }
   ],
   "source": [
    "y_pred_series = pd.Series(log_y_pred[:,0])\n",
    "y_test_series = pd.Series(log_y[:,0])\n",
    "z = pd.concat([y_test_series, y_pred_series], axis=1)\n",
    "z.columns = ['True', 'Prediction']\n",
    "z"
   ]
  },
  {
   "cell_type": "code",
   "execution_count": 61,
   "id": "2990bd99",
   "metadata": {},
   "outputs": [
    {
     "data": {
      "image/png": "[encoded data removed]",
      "text/plain": [
       "<Figure size 864x864 with 1 Axes>"
      ]
     },
     "metadata": {},
     "output_type": "display_data"
    }
   ],
   "source": [
    "# chart of residuals after log transformation\n",
    "res_plot = sns.residplot(x=log_y,y=log_residuals)\n",
    "res_plot.set_title('Log Residual Plot')\n",
    "res_plot.set_xlabel('Log Brain Weight')\n",
    "res_plot.set_ylabel('Log Residuals')\n",
    "sns.set(rc={\"figure.figsize\":(12, 12)})"
   ]
  },
  {
   "cell_type": "code",
   "execution_count": 62,
   "id": "698f098b",
   "metadata": {},
   "outputs": [
    {
     "data": {
      "text/plain": [
       "Text(0.5, 0, 'Binned Residuals')"
      ]
     },
     "execution_count": 62,
     "metadata": {},
     "output_type": "execute_result"
    },
    {
     "data": {
      "image/png": "[encoded data removed]",
      "text/plain": [
       "<Figure size 1080x576 with 1 Axes>"
      ]
     },
     "metadata": {},
     "output_type": "display_data"
    }
   ],
   "source": [
    "# distribution of log residuals\n",
    "plt.figure(figsize=(15,8))\n",
    "plt.hist(log_residuals, bins=10, range=(-5,5))\n",
    "plt.title('Histogram of Residuals', fontsize=16, weight='bold')\n",
    "plt.ylabel('Count')\n",
    "plt.xlabel('Binned Residuals')"
   ]
  },
  {
   "cell_type": "markdown",
   "id": "a29c6a5f",
   "metadata": {},
   "source": [
    "## Visualizing the predictions against actual values"
   ]
  },
  {
   "cell_type": "code",
   "execution_count": 17,
   "id": "b3657ed5",
   "metadata": {},
   "outputs": [
    {
     "data": {
      "text/plain": [
       "Text(0, 0.5, 'Log of human brain weights')"
      ]
     },
     "execution_count": 17,
     "metadata": {},
     "output_type": "execute_result"
    },
    {
     "data": {
      "image/png": "[encoded data removed]",
      "text/plain": [
       "<Figure size 864x864 with 1 Axes>"
      ]
     },
     "metadata": {},
     "output_type": "display_data"
    }
   ],
   "source": [
    "plt.scatter(log_X, log_y)\n",
    "plt.plot(log_X, log_y_pred)\n",
    "plt.xlabel('Log of human body weight')\n",
    "plt.ylabel('Log of human brain weights')"
   ]
  },
  {
   "cell_type": "code",
   "execution_count": 18,
   "id": "e388da96",
   "metadata": {},
   "outputs": [
    {
     "data": {
      "text/plain": [
       "0.7516859362419008"
      ]
     },
     "execution_count": 18,
     "metadata": {},
     "output_type": "execute_result"
    }
   ],
   "source": [
    "## slope of log regression line\n",
    "regr.coef_[0][0]"
   ]
  },
  {
   "cell_type": "markdown",
   "id": "90d5dd71",
   "metadata": {},
   "source": [
    "# Challenge"
   ]
  },
  {
   "cell_type": "code",
   "execution_count": 19,
   "id": "9ec0fd9f",
   "metadata": {},
   "outputs": [
    {
     "name": "stdout",
     "output_type": "stream",
     "text": [
      "The log value of an average body size of 62 is: 4.127134385045092\n",
      "The predicted log value of the average size of a mammal brain with average body size log(62) is: 5.237097550983396\n",
      "The median predicted brain size of mammals is: 188.12329098248597\n"
     ]
    }
   ],
   "source": [
    "log_62 = np.log(62).reshape(1,-1)\n",
    "print(\"The log value of an average body size of 62 is:\", log_62[0][0])\n",
    "pred = regr.predict(log_62)\n",
    "print(\"The predicted log value of the average size of a mammal brain with average body size log(62) is:\", pred[0][0])\n",
    "print(\"The median predicted brain size of mammals is:\", np.exp(pred[0][0]))"
   ]
  },
  {
   "cell_type": "code",
   "execution_count": 20,
   "id": "72603375",
   "metadata": {},
   "outputs": [
    {
     "name": "stdout",
     "output_type": "stream",
     "text": [
      "Unbiased estimator of variance: 0.4664953293783974\n",
      "Predicated average mammal brain size: 237.54218189247754\n"
     ]
    }
   ],
   "source": [
    "# calculate SSE\n",
    "sse = np.sum(log_residuals**2)\n",
    "# calculate MSE\n",
    "mse = sse / len(log_residuals)\n",
    "print(\"Unbiased estimator of variance:\", mse)\n",
    "# translate average log(Brain) estimate to the average estimate on original scale\n",
    "avg_est = np.exp(pred[0][0]+mse/2)\n",
    "print(\"Predicated average mammal brain size:\",avg_est)"
   ]
  },
  {
   "cell_type": "code",
   "execution_count": null,
   "id": "0b5b8db4",
   "metadata": {},
   "outputs": [],
   "source": []
  }
 ],
 "metadata": {
  "kernelspec": {
   "display_name": "Python 3 (ipykernel)",
   "language": "python",
   "name": "python3"
  },
  "language_info": {
   "codemirror_mode": {
    "name": "ipython",
    "version": 3
   },
   "file_extension": ".py",
   "mimetype": "text/x-python",
   "name": "python",
   "nbconvert_exporter": "python",
   "pygments_lexer": "ipython3",
   "version": "3.9.12"
  }
 },
 "nbformat": 4,
 "nbformat_minor": 5
}
